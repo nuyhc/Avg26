{
 "cells": [
  {
   "attachments": {},
   "cell_type": "markdown",
   "metadata": {},
   "source": [
    "# 1. EDA and Preprocessing"
   ]
  },
  {
   "cell_type": "code",
   "execution_count": 2,
   "metadata": {},
   "outputs": [],
   "source": [
    "import os\n",
    "import time\n",
    "import zipfile\n",
    "import numpy as np\n",
    "import pandas as pd\n",
    "import matplotlib.pyplot as plt\n",
    "import seaborn as sns\n",
    "import koreanize_matplotlib\n",
    "from tqdm import tqdm"
   ]
  },
  {
   "attachments": {},
   "cell_type": "markdown",
   "metadata": {},
   "source": [
    "### 1. PATH set"
   ]
  },
  {
   "cell_type": "code",
   "execution_count": 3,
   "metadata": {},
   "outputs": [],
   "source": [
    "# Data from AI HUB\n",
    "BASE_DIR = r\"E:\\한국인 감정인식을 위한 복합 영상\"\n",
    "TRAIN_PATH = os.path.join(BASE_DIR, \"Training\")\n",
    "TEST_PATH = os.path.join(BASE_DIR, \"Validation\")\n",
    "NEW_BASE = r\"E:\\PCP\""
   ]
  },
  {
   "attachments": {},
   "cell_type": "markdown",
   "metadata": {},
   "source": [
    "### 2. ZIP Extract"
   ]
  },
  {
   "cell_type": "code",
   "execution_count": 4,
   "metadata": {},
   "outputs": [],
   "source": [
    "# Train ZIP\n",
    "train_label_list = [label for label in os.listdir(TRAIN_PATH) if \"[라벨]\" in label]\n",
    "train_source_list = [source for source in os.listdir(TRAIN_PATH) if \"[원천]\" in source]\n",
    "# Test ZIP\n",
    "test_label_list = [label for label in os.listdir(TEST_PATH) if \"[라벨]\" in label]\n",
    "test_source_list = [source for source in os.listdir(TEST_PATH) if \"[원천]\" in source]"
   ]
  },
  {
   "cell_type": "code",
   "execution_count": 5,
   "metadata": {},
   "outputs": [],
   "source": [
    "# 한국어 인코딩 적용 후, 압축 해제\n",
    "def unzip_kor(source_file: str, dest_path: str)->None:\n",
    "    with zipfile.ZipFile(source_file, \"r\") as zf:\n",
    "        zipInfo = zf.infolist()\n",
    "        for member in zipInfo:\n",
    "            member.filename = member.filename.encode(\"cp437\").decode(\"euc-kr\")\n",
    "            zf.extract(member, dest_path)"
   ]
  },
  {
   "cell_type": "code",
   "execution_count": 20,
   "metadata": {},
   "outputs": [
    {
     "name": "stderr",
     "output_type": "stream",
     "text": [
      "100%|██████████| 7/7 [00:03<00:00,  2.03it/s]\n",
      "100%|██████████| 7/7 [00:00<00:00,  7.92it/s]\n"
     ]
    }
   ],
   "source": [
    "# Train Label\n",
    "for zip_path in tqdm(train_label_list):\n",
    "    zip_path = os.path.join(TRAIN_PATH, zip_path)\n",
    "    unzip_kor(zip_path, os.path.join(NEW_BASE, \"Train_Label\"))\n",
    "# Test Label\n",
    "for zip_path in tqdm(test_label_list):\n",
    "    zip_path = os.path.join(TEST_PATH, zip_path)\n",
    "    unzip_kor(zip_path, os.path.join(NEW_BASE, \"Test_Label\"))"
   ]
  },
  {
   "cell_type": "code",
   "execution_count": 6,
   "metadata": {},
   "outputs": [
    {
     "name": "stderr",
     "output_type": "stream",
     "text": [
      " 21%|██▏       | 6/28 [55:50<3:24:46, 558.46s/it]\n"
     ]
    },
    {
     "ename": "KeyboardInterrupt",
     "evalue": "",
     "output_type": "error",
     "traceback": [
      "\u001b[1;31m---------------------------------------------------------------------------\u001b[0m",
      "\u001b[1;31mKeyboardInterrupt\u001b[0m                         Traceback (most recent call last)",
      "Cell \u001b[1;32mIn[6], line 5\u001b[0m\n\u001b[0;32m      3\u001b[0m     dir_name \u001b[39m=\u001b[39m zip_path[\u001b[39m11\u001b[39m:\u001b[39m13\u001b[39m]\n\u001b[0;32m      4\u001b[0m     zip_path \u001b[39m=\u001b[39m os\u001b[39m.\u001b[39mpath\u001b[39m.\u001b[39mjoin(TRAIN_PATH, zip_path)\n\u001b[1;32m----> 5\u001b[0m     unzip_kor(zip_path, os\u001b[39m.\u001b[39;49mpath\u001b[39m.\u001b[39;49mjoin(NEW_BASE, os\u001b[39m.\u001b[39;49mpath\u001b[39m.\u001b[39;49mjoin(\u001b[39m\"\u001b[39;49m\u001b[39mTrain\u001b[39;49m\u001b[39m\"\u001b[39;49m, dir_name)))\n\u001b[0;32m      6\u001b[0m \u001b[39m# Test Source\u001b[39;00m\n\u001b[0;32m      7\u001b[0m \u001b[39mfor\u001b[39;00m zip_path \u001b[39min\u001b[39;00m tqdm(test_source_list):\n",
      "Cell \u001b[1;32mIn[5], line 7\u001b[0m, in \u001b[0;36munzip_kor\u001b[1;34m(source_file, dest_path)\u001b[0m\n\u001b[0;32m      5\u001b[0m \u001b[39mfor\u001b[39;00m member \u001b[39min\u001b[39;00m zipInfo:\n\u001b[0;32m      6\u001b[0m     member\u001b[39m.\u001b[39mfilename \u001b[39m=\u001b[39m member\u001b[39m.\u001b[39mfilename\u001b[39m.\u001b[39mencode(\u001b[39m\"\u001b[39m\u001b[39mcp437\u001b[39m\u001b[39m\"\u001b[39m)\u001b[39m.\u001b[39mdecode(\u001b[39m\"\u001b[39m\u001b[39meuc-kr\u001b[39m\u001b[39m\"\u001b[39m)\n\u001b[1;32m----> 7\u001b[0m     zf\u001b[39m.\u001b[39;49mextract(member, dest_path)\n",
      "File \u001b[1;32mc:\\Users\\spec3\\anaconda3\\envs\\NN\\lib\\zipfile.py:1625\u001b[0m, in \u001b[0;36mZipFile.extract\u001b[1;34m(self, member, path, pwd)\u001b[0m\n\u001b[0;32m   1622\u001b[0m \u001b[39melse\u001b[39;00m:\n\u001b[0;32m   1623\u001b[0m     path \u001b[39m=\u001b[39m os\u001b[39m.\u001b[39mfspath(path)\n\u001b[1;32m-> 1625\u001b[0m \u001b[39mreturn\u001b[39;00m \u001b[39mself\u001b[39;49m\u001b[39m.\u001b[39;49m_extract_member(member, path, pwd)\n",
      "File \u001b[1;32mc:\\Users\\spec3\\anaconda3\\envs\\NN\\lib\\zipfile.py:1697\u001b[0m, in \u001b[0;36mZipFile._extract_member\u001b[1;34m(self, member, targetpath, pwd)\u001b[0m\n\u001b[0;32m   1693\u001b[0m     \u001b[39mreturn\u001b[39;00m targetpath\n\u001b[0;32m   1695\u001b[0m \u001b[39mwith\u001b[39;00m \u001b[39mself\u001b[39m\u001b[39m.\u001b[39mopen(member, pwd\u001b[39m=\u001b[39mpwd) \u001b[39mas\u001b[39;00m source, \\\n\u001b[0;32m   1696\u001b[0m      \u001b[39mopen\u001b[39m(targetpath, \u001b[39m\"\u001b[39m\u001b[39mwb\u001b[39m\u001b[39m\"\u001b[39m) \u001b[39mas\u001b[39;00m target:\n\u001b[1;32m-> 1697\u001b[0m     shutil\u001b[39m.\u001b[39;49mcopyfileobj(source, target)\n\u001b[0;32m   1699\u001b[0m \u001b[39mreturn\u001b[39;00m targetpath\n",
      "File \u001b[1;32mc:\\Users\\spec3\\anaconda3\\envs\\NN\\lib\\shutil.py:208\u001b[0m, in \u001b[0;36mcopyfileobj\u001b[1;34m(fsrc, fdst, length)\u001b[0m\n\u001b[0;32m    206\u001b[0m \u001b[39mif\u001b[39;00m \u001b[39mnot\u001b[39;00m buf:\n\u001b[0;32m    207\u001b[0m     \u001b[39mbreak\u001b[39;00m\n\u001b[1;32m--> 208\u001b[0m fdst_write(buf)\n",
      "\u001b[1;31mKeyboardInterrupt\u001b[0m: "
     ]
    }
   ],
   "source": [
    "# Train Source\n",
    "for zip_path in tqdm(train_source_list):\n",
    "    dir_name = zip_path[11:13]\n",
    "    zip_path = os.path.join(TRAIN_PATH, zip_path)\n",
    "    unzip_kor(zip_path, os.path.join(NEW_BASE, os.path.join(\"Train\", dir_name)))\n",
    "# Test Source\n",
    "for zip_path in tqdm(test_source_list):\n",
    "    dir_name = zip_path[11:13]\n",
    "    zip_path = os.path.join(TEST_PATH, zip_path)\n",
    "    unzip_kor(zip_path, os.path.join(NEW_BASE, os.path.join(\"Test\", dir_name)))"
   ]
  }
 ],
 "metadata": {
  "kernelspec": {
   "display_name": "NN",
   "language": "python",
   "name": "python3"
  },
  "language_info": {
   "codemirror_mode": {
    "name": "ipython",
    "version": 3
   },
   "file_extension": ".py",
   "mimetype": "text/x-python",
   "name": "python",
   "nbconvert_exporter": "python",
   "pygments_lexer": "ipython3",
   "version": "3.9.15"
  },
  "orig_nbformat": 4
 },
 "nbformat": 4,
 "nbformat_minor": 2
}
